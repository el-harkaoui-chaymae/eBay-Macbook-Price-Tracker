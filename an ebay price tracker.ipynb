{
 "cells": [
  {
   "cell_type": "markdown",
   "metadata": {},
   "source": [
    "**EL HARKAOUI Chaymae  ---  02-08-2024**"
   ]
  },
  {
   "cell_type": "markdown",
   "metadata": {},
   "source": [
    "<u>**<h2 style=color:red>eBay Price Tracker</h2>**</u>"
   ]
  },
  {
   "cell_type": "markdown",
   "metadata": {},
   "source": [
    "**<u><h4 style=color:blue>Objectives</h4></u>**"
   ]
  },
  {
   "cell_type": "markdown",
   "metadata": {},
   "source": [
    "<ul>\n",
    "<li> Extract the actual price of a macbook i want to buy</li>\n",
    "<li>Track the macbook price</li>\n",
    "<li>Send me an email if the price decrease</li>\n",
    "</ul>"
   ]
  },
  {
   "cell_type": "markdown",
   "metadata": {},
   "source": [
    "**<u><h4 style=color:blue>Function to extract the price</h4></u>**"
   ]
  },
  {
   "cell_type": "code",
   "execution_count": 4,
   "metadata": {},
   "outputs": [],
   "source": [
    "import requests\n",
    "from bs4 import BeautifulSoup\n",
    "\n",
    "import smtplib\n",
    "from email.mime.text import MIMEText\n",
    "from email.mime.multipart import MIMEMultipart\n",
    "import schedule\n",
    "import time"
   ]
  },
  {
   "cell_type": "code",
   "execution_count": 5,
   "metadata": {},
   "outputs": [],
   "source": [
    "def get_actual_price(URL):\n",
    "    \n",
    "    response = requests.get(URL)\n",
    "    soup = BeautifulSoup(response.text , 'lxml')\n",
    "    divs = soup.find_all('div', class_ = 'x-price-primary')\n",
    "    for div in divs:\n",
    "      span = div.find('span',class_='ux-textspans')\n",
    "      if span:\n",
    "        actual_price = float(span.get_text()[4:])\n",
    "    return actual_price    "
   ]
  },
  {
   "cell_type": "markdown",
   "metadata": {},
   "source": [
    "**<u><h4 style=color:blue>Function to send an email</h4></u>**"
   ]
  },
  {
   "cell_type": "code",
   "execution_count": 6,
   "metadata": {},
   "outputs": [],
   "source": [
    "def send_email(wanted_price):\n",
    "    \n",
    "    sender_email = \"my_email@example.com\"\n",
    "    receiver_email = \"receiver_email@example.com\"\n",
    "    password = \"my_password\"\n",
    "\n",
    "    subject = \"Price Alert: Laptop Price Dropped!\"\n",
    "    body = f\"The price of the laptop has dropped to ${wanted_price}. Check it out!\"\n",
    "\n",
    "    msg = MIMEMultipart()\n",
    "    msg['From'] = sender_email\n",
    "    msg['To'] = receiver_email\n",
    "    msg['Subject'] = subject\n",
    "\n",
    "    msg.attach(MIMEText(body, 'plain'))\n",
    "\n",
    "    try:\n",
    "        server = smtplib.SMTP('smtp.example.com', 587)\n",
    "        server.starttls()\n",
    "        server.login(sender_email, password)\n",
    "        text = msg.as_string()\n",
    "        server.sendmail(sender_email, receiver_email, text)\n",
    "        server.quit()\n",
    "        print(\"Email sent successfully\")\n",
    "    \n",
    "    except Exception as e:\n",
    "        print(f\"Failed to send email: {e}\")"
   ]
  },
  {
   "cell_type": "markdown",
   "metadata": {},
   "source": [
    "**<u><h4 style=color:blue>Function to check the price and  send an email if needed</h4></u>**"
   ]
  },
  {
   "cell_type": "code",
   "execution_count": 8,
   "metadata": {},
   "outputs": [],
   "source": [
    "URL = 'https://www.ebay.com/itm/135003681662?itmmeta=01J49P2TPGTV3JK26RYXFTTKHP&hash=item1f6ed8b37e:g:MuUAAOSwSTFmn72u&itmprp=enc%3AAQAJAAAA4P4chlfuF2RbGn9HDI70wYdOeEyd25eWKvEgMvG1zH9mfh0FVw8DMcPZDt2XwaNXe4PxXCB6nakgnDbjnBi9jgAwr2VWVbxH8h0qd69SRXi8fJBiMU01Pgf57mf2QHll7BpjWGsPwElmj5wQezo7%2FOS0jo%2B5JCnRtOtFfPP%2FadnUKHlT6qPoxJhJ8LCWmzJi2ohp5gJROFolwzG0RKKU2mHVZWE9KTzaGPNDtBYAHFq0KQd5yJNk6XTeoPuhxtejEUsFsC4BeQ%2FQUV4UK6tbvBAlS968dzDvLMGizprfcENr%7Ctkp%3ABFBMqquLtqJk'"
   ]
  },
  {
   "cell_type": "code",
   "execution_count": 11,
   "metadata": {},
   "outputs": [],
   "source": [
    "def check_price():\n",
    "    \n",
    "    actual_price = get_actual_price(URL)\n",
    "    if actual_price <= 100:\n",
    "        send_email(actual_price)"
   ]
  },
  {
   "cell_type": "markdown",
   "metadata": {},
   "source": [
    "**<u><h4 style=color:blue>Schedule the price check every hour</h4></u>**"
   ]
  },
  {
   "cell_type": "code",
   "execution_count": 12,
   "metadata": {},
   "outputs": [
    {
     "data": {
      "text/plain": [
       "Every 1 hour do check_price() (last run: [never], next run: 2024-08-02 17:51:18)"
      ]
     },
     "execution_count": 12,
     "metadata": {},
     "output_type": "execute_result"
    }
   ],
   "source": [
    "schedule.every().hour.do(check_price)"
   ]
  },
  {
   "cell_type": "code",
   "execution_count": 14,
   "metadata": {},
   "outputs": [],
   "source": [
    "# while True:\n",
    "    # schedule.run_pending()\n",
    "    # time.sleep(1)"
   ]
  }
 ],
 "metadata": {
  "kernelspec": {
   "display_name": "Python 3",
   "language": "python",
   "name": "python3"
  },
  "language_info": {
   "codemirror_mode": {
    "name": "ipython",
    "version": 3
   },
   "file_extension": ".py",
   "mimetype": "text/x-python",
   "name": "python",
   "nbconvert_exporter": "python",
   "pygments_lexer": "ipython3",
   "version": "3.11.1"
  }
 },
 "nbformat": 4,
 "nbformat_minor": 2
}
